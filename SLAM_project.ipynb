{
 "cells": [
  {
   "cell_type": "code",
   "execution_count": 2,
   "metadata": {
    "collapsed": true
   },
   "outputs": [],
   "source": [
    "import numpy as np\n",
    "import pandas as pd\n",
    "import seaborn as sns\n",
    "%matplotlib inline"
   ]
  },
  {
   "cell_type": "code",
   "execution_count": null,
   "metadata": {
    "collapsed": true
   },
   "outputs": [],
   "source": [
    "#Averaged P-BOEM, better convergence rate\n",
    "\n",
    "def avg_pboem(Y_t,tau_n=,theta_0=,N_n=):\n",
    "    theta = theta_0.copy()\n",
    "    theta_tilde = theta_0.copy()\n",
    "    sigma_tilde_0=0.\n",
    "    for i in range(n): #n=last index\n",
    "        S_i_tilde= forward_smc_step()\n",
    "        theta_new = #how to compute the argmax of an estimated function?\n",
    "        #update theta\n",
    "        theta.append(theta_new)\n",
    "        sigma_new_tilde = (i/(i+1))*sigma_tilde + (tau_n[i+1]/(i+1))*S_i_tilde\n",
    "        theta_new_tilde = #idem?\n",
    "        #update sigma_tilde\n",
    "        sigma_tilde = sigma_new_tilde\n",
    "        #update theta_tilde\n",
    "        theta_tilde.append(theta_new_tilde)\n",
    "    return theta_tilde, theta"
   ]
  },
  {
   "cell_type": "code",
   "execution_count": null,
   "metadata": {
    "collapsed": true
   },
   "outputs": [],
   "source": [
    "#SMC algorithm, detailed in the extended paper of Moulines (p22)\n",
    "#We use the bootstrap filter\n",
    "\n",
    "def motion_sampler(x_old,B=1.5,dt=1): #1 second period\n",
    "    v_hat, psi_hat = np.random.multivariate_normal(mean=np.zeros(2),cov=np.diag([0.5**2,(np.pi/60)**2]))\n",
    "    x_new = x_old + np.array([v_hat*dt*np.cos(x_old[2]+psi_hat),\n",
    "                             v_hat*dt*np.sin(x_old[2]+psi_hat),\n",
    "                             v_hat*dt*np.sin(psi_hat)/B])\n",
    "    return x_new\n",
    "\n",
    "def state_to_state_density(x_old=,x_new=):\n",
    "    res = \n",
    "    return res\n",
    "\n",
    "def state_to_obs_density():\n",
    "    res = \n",
    "    return res\n",
    "\n",
    "#Requires grid_x_low,grid_x_high,grid_y_low,grid_y_high --> dimensions of the 2D grid\n",
    "#N number of particles, fixed to 50 in the algorithm experiment\n",
    "#tau_n = size of the n-th block ; requires a list tau of each size of block (slowly increasing)\n",
    "def forward_smc_step(theta_n,tau_new=tau[n],Y_block=Y[T_n + 1:T_n+tau_new],N=50.):\n",
    "    #Initialization\n",
    "    #we choose the uniform distribution for chi ; each particle represents a possible x (hidden state)\n",
    "    xi_history={}\n",
    "    xi_history[0]=np.vstack((np.random.uniform(size=N,low=grid_x_low,high=grid_x_high),\n",
    "                       np.random.uniform(size=N,low=grid_y_low,high=grid_y_high),\n",
    "                       np.random.uniform(size=N,low=0,high=2*np.pi))).T\n",
    "    xi_temp=xi_history[0].copy()\n",
    "    w_history = np.full((1,N),1./N) #same for each particle at the beginning\n",
    "    w_temp=np.full((1,N),1./N) #temporary to stock and update the new weights vectors\n",
    "    R_history = np.full((1,N),0.)\n",
    "    R_temp = np.full((1,N),0.) #idem\n",
    "    for t in range(1,tau_new+1):\n",
    "        for l in range(N):\n",
    "            #Need to keep track of each change of weight!\n",
    "            J=np.where(np.random.multinomial(n=1,pvals=w_history[t-1]))[0][0] #pb if weights do not sum to 1!\n",
    "            xi=motion_sampler(x_old=xi_history[t-1][J])\n",
    "            #keep track to the particles\n",
    "            xi_temp[l]=xi\n",
    "            #Compute new w --> remember, bootstrap filter = easy computation!\n",
    "            w_new = #? Need for Taylor approx?\n",
    "            #keep track of new weights\n",
    "            w_temp[0][l]=w_new\n",
    "            #Need marginal likelihood of g\n",
    "            R = (1./t)*np.sum((np.multiply(w_history[t-1],np.multiply(m(),S()))+\n",
    "                               (t-1)*R_history[t-1])/(np.sum(np.multiply(w_history[t-1],m()))) #mean? TO COMPLETE\n",
    "            #Need marginal likelihood of m\n",
    "            #Need S ?\n",
    "            #update R_temp\n",
    "            R_temp[0][l]=R                  \n",
    "        #update everything\n",
    "        w_history = np.append(w_history,w_temp)\n",
    "        R_history = np.append(R_history,R_temp)\n",
    "        xi_history[t]=xi_temp\n",
    "    S_tilde=np.average(a=R,weights=w_new)\n",
    "    return S_tilde, xi_history, w_history, R_history"
   ]
  },
  {
   "cell_type": "markdown",
   "metadata": {},
   "source": [
    "### Experiments"
   ]
  },
  {
   "cell_type": "code",
   "execution_count": 49,
   "metadata": {
    "collapsed": true
   },
   "outputs": [],
   "source": [
    "N=50\n",
    "#Creation of the list of taus (block-size sequences)\n",
    "n=200\n",
    "tau_list=[round(i**(1.1)) for i in range(1,n)]\n",
    "#Covariance matrix for the observation model\n",
    "R=np.diag([0.5**2,(np.pi/60)**2])\n",
    "#Covariance matrix for the motion model\n",
    "Q=np.diag([0.5**2,(np.pi/60)**2])"
   ]
  },
  {
   "cell_type": "code",
   "execution_count": 50,
   "metadata": {
    "collapsed": false
   },
   "outputs": [
    {
     "ename": "SyntaxError",
     "evalue": "invalid syntax (<ipython-input-50-b04f1264c3ed>, line 1)",
     "output_type": "error",
     "traceback": [
      "\u001b[0;36m  File \u001b[0;32m\"<ipython-input-50-b04f1264c3ed>\"\u001b[0;36m, line \u001b[0;32m1\u001b[0m\n\u001b[0;31m    true_map=\u001b[0m\n\u001b[0m             ^\u001b[0m\n\u001b[0;31mSyntaxError\u001b[0m\u001b[0;31m:\u001b[0m invalid syntax\n"
     ]
    }
   ],
   "source": [
    "true_map="
   ]
  },
  {
   "cell_type": "code",
   "execution_count": null,
   "metadata": {
    "collapsed": true
   },
   "outputs": [],
   "source": [
    "#Draw map with landmarks and initial position of the robot\n",
    "#True trajetory = weighted mean of the particles\n",
    "#Visualizations to do: true trajectory vs estimated one + approximation errors (boxplots) --> bokeh!"
   ]
  }
 ],
 "metadata": {
  "kernelspec": {
   "display_name": "Python 2",
   "language": "python",
   "name": "python2"
  },
  "language_info": {
   "codemirror_mode": {
    "name": "ipython",
    "version": 2
   },
   "file_extension": ".py",
   "mimetype": "text/x-python",
   "name": "python",
   "nbconvert_exporter": "python",
   "pygments_lexer": "ipython2",
   "version": "2.7.12"
  }
 },
 "nbformat": 4,
 "nbformat_minor": 0
}
